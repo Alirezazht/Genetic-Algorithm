{
 "cells": [
  {
   "cell_type": "code",
   "execution_count": 24,
   "metadata": {},
   "outputs": [
    {
     "data": {
      "text/html": [
       "<div>\n",
       "<style scoped>\n",
       "    .dataframe tbody tr th:only-of-type {\n",
       "        vertical-align: middle;\n",
       "    }\n",
       "\n",
       "    .dataframe tbody tr th {\n",
       "        vertical-align: top;\n",
       "    }\n",
       "\n",
       "    .dataframe thead th {\n",
       "        text-align: right;\n",
       "    }\n",
       "</style>\n",
       "<table border=\"1\" class=\"dataframe\">\n",
       "  <thead>\n",
       "    <tr style=\"text-align: right;\">\n",
       "      <th></th>\n",
       "      <th>PM10</th>\n",
       "      <th>PM2.5</th>\n",
       "      <th>Tempreature</th>\n",
       "      <th>Humid</th>\n",
       "      <th>Wind Speed</th>\n",
       "      <th>Wind Direction</th>\n",
       "      <th>Pressure</th>\n",
       "      <th>RainFall</th>\n",
       "      <th>DAY</th>\n",
       "    </tr>\n",
       "  </thead>\n",
       "  <tbody>\n",
       "    <tr>\n",
       "      <th>0</th>\n",
       "      <td>88</td>\n",
       "      <td>37.0</td>\n",
       "      <td>18.9</td>\n",
       "      <td>16.375</td>\n",
       "      <td>3.125</td>\n",
       "      <td>290</td>\n",
       "      <td>857.675</td>\n",
       "      <td>0.0</td>\n",
       "      <td>1</td>\n",
       "    </tr>\n",
       "    <tr>\n",
       "      <th>1</th>\n",
       "      <td>52</td>\n",
       "      <td>21.0</td>\n",
       "      <td>17.0</td>\n",
       "      <td>17.500</td>\n",
       "      <td>2.250</td>\n",
       "      <td>280</td>\n",
       "      <td>857.388</td>\n",
       "      <td>0.0</td>\n",
       "      <td>2</td>\n",
       "    </tr>\n",
       "    <tr>\n",
       "      <th>2</th>\n",
       "      <td>51</td>\n",
       "      <td>23.0</td>\n",
       "      <td>17.2</td>\n",
       "      <td>14.500</td>\n",
       "      <td>1.125</td>\n",
       "      <td>240</td>\n",
       "      <td>858.737</td>\n",
       "      <td>0.0</td>\n",
       "      <td>3</td>\n",
       "    </tr>\n",
       "    <tr>\n",
       "      <th>3</th>\n",
       "      <td>158</td>\n",
       "      <td>56.0</td>\n",
       "      <td>19.6</td>\n",
       "      <td>15.875</td>\n",
       "      <td>1.000</td>\n",
       "      <td>190</td>\n",
       "      <td>860.950</td>\n",
       "      <td>0.0</td>\n",
       "      <td>4</td>\n",
       "    </tr>\n",
       "    <tr>\n",
       "      <th>4</th>\n",
       "      <td>112</td>\n",
       "      <td>43.0</td>\n",
       "      <td>21.3</td>\n",
       "      <td>12.875</td>\n",
       "      <td>2.125</td>\n",
       "      <td>290</td>\n",
       "      <td>860.688</td>\n",
       "      <td>0.0</td>\n",
       "      <td>5</td>\n",
       "    </tr>\n",
       "  </tbody>\n",
       "</table>\n",
       "</div>"
      ],
      "text/plain": [
       "   PM10  PM2.5  Tempreature   Humid  Wind Speed  Wind Direction  Pressure  \\\n",
       "0    88   37.0         18.9  16.375       3.125             290   857.675   \n",
       "1    52   21.0         17.0  17.500       2.250             280   857.388   \n",
       "2    51   23.0         17.2  14.500       1.125             240   858.737   \n",
       "3   158   56.0         19.6  15.875       1.000             190   860.950   \n",
       "4   112   43.0         21.3  12.875       2.125             290   860.688   \n",
       "\n",
       "   RainFall  DAY  \n",
       "0       0.0    1  \n",
       "1       0.0    2  \n",
       "2       0.0    3  \n",
       "3       0.0    4  \n",
       "4       0.0    5  "
      ]
     },
     "execution_count": 24,
     "metadata": {},
     "output_type": "execute_result"
    }
   ],
   "source": [
    "import pandas as pd\n",
    "data = pd.read_excel('PM10.xlsx')\n",
    "day = []\n",
    "for i in range(1,1097):\n",
    "    day.append(i)\n",
    "data['DAY'] = day\n",
    "data.head()"
   ]
  },
  {
   "cell_type": "code",
   "execution_count": 25,
   "metadata": {},
   "outputs": [],
   "source": [
    "X = data[['PM10','Tempreature','Humid','Wind Speed','Wind Direction','Pressure','RainFall','DAY']]\n",
    "X = X.values\n",
    "Y = data['PM2.5']\n",
    "Y = Y.values"
   ]
  },
  {
   "cell_type": "code",
   "execution_count": 26,
   "metadata": {},
   "outputs": [],
   "source": [
    "from sklearn.model_selection import train_test_split\n",
    "x_train1,x_test1,y_train1,y_test1 = train_test_split(X,Y ,test_size=0.2,random_state=0)"
   ]
  },
  {
   "cell_type": "code",
   "execution_count": 48,
   "metadata": {},
   "outputs": [],
   "source": [
    "import keras\n",
    "from keras.layers import Dense\n",
    "from keras.models import Sequential\n",
    "model = Sequential()\n",
    "model.add(Dense(50, activation='relu', input_dim=8))\n",
    "model.add(Dense(50,activation = 'relu'))\n",
    "model.add(Dense(1))\n",
    "model.compile(optimizer='adam', loss='mse')"
   ]
  },
  {
   "cell_type": "code",
   "execution_count": 49,
   "metadata": {},
   "outputs": [
    {
     "data": {
      "text/plain": [
       "<tensorflow.python.keras.callbacks.History at 0x24f3c44cb38>"
      ]
     },
     "execution_count": 49,
     "metadata": {},
     "output_type": "execute_result"
    }
   ],
   "source": [
    "model.fit(x_train1, y_train1, epochs=2000,batch_size=len(x_train1), verbose=0)"
   ]
  },
  {
   "cell_type": "code",
   "execution_count": 50,
   "metadata": {},
   "outputs": [
    {
     "name": "stdout",
     "output_type": "stream",
     "text": [
      "7/7 [==============================] - 0s 3ms/step - loss: 53.3939\n"
     ]
    },
    {
     "data": {
      "text/plain": [
       "53.39392852783203"
      ]
     },
     "execution_count": 50,
     "metadata": {},
     "output_type": "execute_result"
    }
   ],
   "source": [
    "model.evaluate(x_test1,y_test1)"
   ]
  },
  {
   "cell_type": "code",
   "execution_count": 14,
   "metadata": {},
   "outputs": [
    {
     "name": "stdout",
     "output_type": "stream",
     "text": [
      "mse : 45.221\n",
      "rmse : 6.725\n",
      "mae : 4.747\n"
     ]
    }
   ],
   "source": [
    "from sklearn.svm import SVR\n",
    "from sklearn.metrics import mean_squared_error\n",
    "from sklearn.metrics import mean_absolute_error\n",
    "import math\n",
    "y_pred2030 = model.predict(x_test1)\n",
    "mse2030 = mean_squared_error(y_test1, y_pred2030)\n",
    "mae2030 = mean_absolute_error(y_test1, y_pred2030)\n",
    "rmse2030 = math.sqrt(mse2030)\n",
    "print('mse : %.3f'%mse2030)\n",
    "print('rmse : %.3f'%rmse2030)\n",
    "print('mae : %.3f'%mae2030)"
   ]
  },
  {
   "cell_type": "markdown",
   "metadata": {},
   "source": [
    "# Load data"
   ]
  },
  {
   "cell_type": "code",
   "execution_count": 19,
   "metadata": {
    "scrolled": true
   },
   "outputs": [
    {
     "name": "stdout",
     "output_type": "stream",
     "text": [
      "Loaded model from disk\n"
     ]
    }
   ],
   "source": [
    "from keras.models import model_from_json\n",
    "json_file = open('MLP_model_6_btar.json', 'r')\n",
    "loaded_model_json = json_file.read()\n",
    "json_file.close()\n",
    "loaded_model = model_from_json(loaded_model_json)\n",
    "# load weights into new model\n",
    "loaded_model.load_weights(\"mlp_model_6_btar.h5\")\n",
    "print(\"Loaded model from disk\")"
   ]
  },
  {
   "cell_type": "code",
   "execution_count": 21,
   "metadata": {},
   "outputs": [],
   "source": [
    "loaded_model.compile(loss='mse', optimizer='rmsprop')\n"
   ]
  },
  {
   "cell_type": "code",
   "execution_count": 22,
   "metadata": {},
   "outputs": [
    {
     "name": "stdout",
     "output_type": "stream",
     "text": [
      "7/7 [==============================] - 0s 3ms/step - loss: 44.6430\n"
     ]
    },
    {
     "data": {
      "text/plain": [
       "37.654754638671875"
      ]
     },
     "execution_count": 22,
     "metadata": {},
     "output_type": "execute_result"
    }
   ],
   "source": [
    "loaded_model.evaluate(x_test1,y_test1)"
   ]
  },
  {
   "cell_type": "code",
   "execution_count": 23,
   "metadata": {},
   "outputs": [
    {
     "name": "stdout",
     "output_type": "stream",
     "text": [
      "mse : 37.655\n",
      "rmse : 6.136\n",
      "mae : 4.352\n"
     ]
    }
   ],
   "source": [
    "from sklearn.svm import SVR\n",
    "from sklearn.metrics import mean_squared_error\n",
    "from sklearn.metrics import mean_absolute_error\n",
    "import math\n",
    "y_pred2030 = loaded_model.predict(x_test1)\n",
    "mse2030 = mean_squared_error(y_test1, y_pred2030)\n",
    "mae2030 = mean_absolute_error(y_test1, y_pred2030)\n",
    "rmse2030 = math.sqrt(mse2030)\n",
    "print('mse : %.3f'%mse2030)\n",
    "print('rmse : %.3f'%rmse2030)\n",
    "print('mae : %.3f'%mae2030)"
   ]
  },
  {
   "cell_type": "code",
   "execution_count": 100,
   "metadata": {},
   "outputs": [
    {
     "data": {
      "text/plain": [
       "(10, 180)"
      ]
     },
     "execution_count": 100,
     "metadata": {},
     "output_type": "execute_result"
    },
    {
     "data": {
      "image/png": "[encoded data removed]",
      "text/plain": [
       "<Figure size 432x288 with 1 Axes>"
      ]
     },
     "metadata": {
      "needs_background": "light"
     },
     "output_type": "display_data"
    }
   ],
   "source": [
    "import matplotlib\n",
    "import matplotlib.pyplot as plt\n",
    "from sklearn.metrics import median_absolute_error, r2_score\n",
    "plt.scatter(y_pred2030, y_test1)\n",
    "plt.plot([0, 250], [0, 250], '--k')\n",
    "plt.ylabel('predicted')\n",
    "plt.xlabel('observed')\n",
    "plt.text(25,155,'MLP',fontsize=16)\n",
    "plt.text(20,140, r'$R^2$=%.2f'% (\n",
    "       r2_score(y_pred2030, y_test1)),fontsize=12)\n",
    "plt.xlim([10, 180])\n",
    "plt.ylim([10, 180])"
   ]
  },
  {
   "cell_type": "code",
   "execution_count": null,
   "metadata": {},
   "outputs": [],
   "source": []
  }
 ],
 "metadata": {
  "kernelspec": {
   "display_name": "Python 3",
   "language": "python",
   "name": "python3"
  },
  "language_info": {
   "codemirror_mode": {
    "name": "ipython",
    "version": 3
   },
   "file_extension": ".py",
   "mimetype": "text/x-python",
   "name": "python",
   "nbconvert_exporter": "python",
   "pygments_lexer": "ipython3",
   "version": "3.7.3"
  }
 },
 "nbformat": 4,
 "nbformat_minor": 2
}
